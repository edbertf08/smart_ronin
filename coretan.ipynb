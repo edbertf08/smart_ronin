{
 "cells": [
  {
   "cell_type": "code",
   "execution_count": null,
   "metadata": {},
   "outputs": [],
   "source": [
    "import pandas as pd"
   ]
  }
 ],
 "metadata": {
  "kernelspec": {
   "display_name": "Python 3.9.12 ('magang')",
   "language": "python",
   "name": "python3"
  },
  "language_info": {
   "name": "python",
   "version": "3.9.12"
  },
  "orig_nbformat": 4,
  "vscode": {
   "interpreter": {
    "hash": "835b99eff872a457840cfa1375b799b321c31df3d22107c9c6e0d2bae4825e57"
   }
  }
 },
 "nbformat": 4,
 "nbformat_minor": 2
}
